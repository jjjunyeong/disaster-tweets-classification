{
 "cells": [
  {
   "cell_type": "code",
   "execution_count": 36,
   "metadata": {},
   "outputs": [],
   "source": [
    "import pandas as pd\n",
    "import numpy as np\n",
    "from sklearn.feature_extraction.text import CountVectorizer, TfidfVectorizer, HashingVectorizer\n",
    "from sklearn.model_selection import train_test_split\n",
    "from sklearn.linear_model import LogisticRegression\n",
    "from sklearn.tree import DecisionTreeClassifier\n",
    "from sklearn.neighbors import KNeighborsClassifier\n",
    "from sklearn.svm import SVC\n",
    "from sklearn.linear_model import LogisticRegression\n",
    "from sklearn.ensemble import RandomForestClassifier,ExtraTreesClassifier\n",
    "# from catboost import CatBoostClassifier\n",
    "# from xgboost import XGBClassifier\n"
   ]
  },
  {
   "cell_type": "code",
   "execution_count": 2,
   "metadata": {},
   "outputs": [],
   "source": [
    "df_train = pd.read_csv('../data/train.csv', dtype={'id': np.int16, 'target': np.int8})\n",
    "df_test = pd.read_csv('../data/test.csv', dtype={'id': np.int16})"
   ]
  },
  {
   "cell_type": "code",
   "execution_count": 3,
   "metadata": {},
   "outputs": [
    {
     "data": {
      "text/html": [
       "<div>\n",
       "<style scoped>\n",
       "    .dataframe tbody tr th:only-of-type {\n",
       "        vertical-align: middle;\n",
       "    }\n",
       "\n",
       "    .dataframe tbody tr th {\n",
       "        vertical-align: top;\n",
       "    }\n",
       "\n",
       "    .dataframe thead th {\n",
       "        text-align: right;\n",
       "    }\n",
       "</style>\n",
       "<table border=\"1\" class=\"dataframe\">\n",
       "  <thead>\n",
       "    <tr style=\"text-align: right;\">\n",
       "      <th></th>\n",
       "      <th>Unnamed: 0.1</th>\n",
       "      <th>Unnamed: 0</th>\n",
       "      <th>id</th>\n",
       "      <th>keyword</th>\n",
       "      <th>location</th>\n",
       "      <th>text</th>\n",
       "      <th>target</th>\n",
       "      <th>text_cleaned</th>\n",
       "      <th>tokens</th>\n",
       "    </tr>\n",
       "  </thead>\n",
       "  <tbody>\n",
       "    <tr>\n",
       "      <th>0</th>\n",
       "      <td>0</td>\n",
       "      <td>0</td>\n",
       "      <td>1</td>\n",
       "      <td>NaN</td>\n",
       "      <td>NaN</td>\n",
       "      <td>Our Deeds are the Reason of this #earthquake M...</td>\n",
       "      <td>1</td>\n",
       "      <td>Our Deeds are the Reason of this  # earthquake...</td>\n",
       "      <td>our deed reason earthquake may allah forgive u</td>\n",
       "    </tr>\n",
       "    <tr>\n",
       "      <th>1</th>\n",
       "      <td>1</td>\n",
       "      <td>1</td>\n",
       "      <td>4</td>\n",
       "      <td>NaN</td>\n",
       "      <td>NaN</td>\n",
       "      <td>Forest fire near La Ronge Sask. Canada</td>\n",
       "      <td>1</td>\n",
       "      <td>Forest fire near La Ronge Sask .  Canada</td>\n",
       "      <td>forest fire near la ronge sask canada</td>\n",
       "    </tr>\n",
       "  </tbody>\n",
       "</table>\n",
       "</div>"
      ],
      "text/plain": [
       "   Unnamed: 0.1  Unnamed: 0  id keyword location  \\\n",
       "0             0           0   1     NaN      NaN   \n",
       "1             1           1   4     NaN      NaN   \n",
       "\n",
       "                                                text  target  \\\n",
       "0  Our Deeds are the Reason of this #earthquake M...       1   \n",
       "1             Forest fire near La Ronge Sask. Canada       1   \n",
       "\n",
       "                                        text_cleaned  \\\n",
       "0  Our Deeds are the Reason of this  # earthquake...   \n",
       "1           Forest fire near La Ronge Sask .  Canada   \n",
       "\n",
       "                                           tokens  \n",
       "0  our deed reason earthquake may allah forgive u  \n",
       "1           forest fire near la ronge sask canada  "
      ]
     },
     "execution_count": 3,
     "metadata": {},
     "output_type": "execute_result"
    }
   ],
   "source": [
    "df_train.head(2)"
   ]
  },
  {
   "cell_type": "code",
   "execution_count": 45,
   "metadata": {},
   "outputs": [],
   "source": [
    "X = df_train['tokens'].values.astype('U')\n",
    "y = df_train['target'].values.astype('U')\n",
    "X_test = df_test['tokens'].values.astype('U')\n",
    "\n",
    "X_train, X_val, y_train, y_val = train_test_split(X, y, test_size=0.33, random_state=123)\n"
   ]
  },
  {
   "cell_type": "code",
   "execution_count": 25,
   "metadata": {},
   "outputs": [
    {
     "data": {
      "text/plain": [
       "(7613,)"
      ]
     },
     "execution_count": 25,
     "metadata": {},
     "output_type": "execute_result"
    }
   ],
   "source": [
    "X_train.shape"
   ]
  },
  {
   "cell_type": "code",
   "execution_count": 47,
   "metadata": {},
   "outputs": [],
   "source": [
    "def text_vectorization(vectorizer, X_train, X_val):\n",
    "    X_train = vectorizer.fit_transform(X_train)\n",
    "    X_val = vectorizer.transform(X_val)\n",
    "    return X_train, X_val"
   ]
  },
  {
   "cell_type": "code",
   "execution_count": 38,
   "metadata": {},
   "outputs": [],
   "source": [
    "def predict(classifier, X_train, y_train, X_val, y_val):\n",
    "    classifier.fit(X_train, y_train)\n",
    "    y_pred = classifier.predict(X_val)\n",
    "    return np.mean(y_pred == y_val)"
   ]
  },
  {
   "cell_type": "code",
   "execution_count": 50,
   "metadata": {},
   "outputs": [
    {
     "name": "stdout",
     "output_type": "stream",
     "text": [
      "CountVectorizer() SVC() 0.8062077198567449\n",
      "CountVectorizer() LogisticRegression() 0.8058097890966972\n",
      "CountVectorizer() RandomForestClassifier() 0.7859132510943095\n",
      "CountVectorizer() ExtraTreesClassifier() 0.7684042976522085\n",
      "CountVectorizer() DecisionTreeClassifier() 0.7230401910067649\n",
      "CountVectorizer() KNeighborsClassifier() 0.6975726223637088\n",
      "TfidfVectorizer() SVC() 0.8050139275766016\n",
      "TfidfVectorizer() LogisticRegression() 0.8089932351770792\n",
      "TfidfVectorizer() RandomForestClassifier() 0.7795463589335455\n",
      "TfidfVectorizer() ExtraTreesClassifier() 0.7688022284122563\n",
      "TfidfVectorizer() DecisionTreeClassifier() 0.7043374452845205\n",
      "TfidfVectorizer() KNeighborsClassifier() 0.7397532829287704\n"
     ]
    }
   ],
   "source": [
    "# test 3 vectorizers - Bag of Words, TF-IDF, Hash\n",
    "# test 6 classification models\n",
    "vectorizers = [CountVectorizer(), TfidfVectorizer()] #, HashingVectorizer()\n",
    "models = [SVC(), LogisticRegression(), RandomForestClassifier(), ExtraTreesClassifier(), DecisionTreeClassifier(), KNeighborsClassifier()] #\n",
    "for vectorizer in vectorizers:\n",
    "    X_train, X_val, y_train, y_val = train_test_split(X, y, test_size=0.33, random_state=123)\n",
    "    X_train, X_val = text_vectorization(vectorizer, X_train, X_val)\n",
    "\n",
    "    for model in models:\n",
    "        acc = predict(model, X_train, y_train, X_val, y_val)\n",
    "        print(vectorizer, model, acc)"
   ]
  },
  {
   "cell_type": "code",
   "execution_count": 53,
   "metadata": {},
   "outputs": [
    {
     "name": "stdout",
     "output_type": "stream",
     "text": [
      "HashingVectorizer() SVC() 0.8014325507361719\n",
      "HashingVectorizer() LogisticRegression() 0.8002387584560287\n"
     ]
    }
   ],
   "source": [
    "# test 3 vectorizers - Bag of Words, TF-IDF, Hash\n",
    "# test 6 classification models\n",
    "vectorizers = [HashingVectorizer()]\n",
    "models = [SVC(), LogisticRegression()] # RandomForestClassifier(), ExtraTreesClassifier(), DecisionTreeClassifier(), KNeighborsClassifier()\n",
    "for vectorizer in vectorizers:\n",
    "    X_train, X_val, y_train, y_val = train_test_split(X, y, test_size=0.33, random_state=123)\n",
    "    X_train, X_val = text_vectorization(vectorizer, X_train, X_val)\n",
    "\n",
    "    for model in models:\n",
    "        acc = predict(model, X_train, y_train, X_val, y_val)\n",
    "        print(vectorizer, model, acc)"
   ]
  }
 ],
 "metadata": {
  "kernelspec": {
   "display_name": "Python 3.8.10 64-bit",
   "language": "python",
   "name": "python3"
  },
  "language_info": {
   "codemirror_mode": {
    "name": "ipython",
    "version": 3
   },
   "file_extension": ".py",
   "mimetype": "text/x-python",
   "name": "python",
   "nbconvert_exporter": "python",
   "pygments_lexer": "ipython3",
   "version": "3.8.10"
  },
  "orig_nbformat": 4,
  "vscode": {
   "interpreter": {
    "hash": "949777d72b0d2535278d3dc13498b2535136f6dfe0678499012e853ee9abcab1"
   }
  }
 },
 "nbformat": 4,
 "nbformat_minor": 2
}
